{
 "cells": [
  {
   "cell_type": "code",
   "execution_count": 2,
   "metadata": {},
   "outputs": [],
   "source": [
    "import json\n",
    "import pandas as pd"
   ]
  },
  {
   "cell_type": "code",
   "execution_count": 3,
   "metadata": {},
   "outputs": [],
   "source": [
    "with open('recipe.json', 'r') as f_recipe, open('urls.txt', 'r') as f_url:\n",
    "    recipe_data = json.load(f_recipe)\n",
    "    urls_data  = f_url.readlines()"
   ]
  },
  {
   "cell_type": "code",
   "execution_count": 4,
   "metadata": {},
   "outputs": [
    {
     "data": {
      "text/plain": [
       "41544"
      ]
     },
     "execution_count": 4,
     "metadata": {},
     "output_type": "execute_result"
    },
    {
     "name": "stderr",
     "output_type": "stream",
     "text": [
      "Bad pipe message: %s [b'\"Google Chrome\";v=\"131\", \"Chromium\";v=\"131\", \"Not_A Brand']\n",
      "Bad pipe message: %s [b'ol: max-age=0\\r\\nsec-ch-ua: \"Google Chrome\";v=\"131\", \"Chromium\";v=\"131\", \"Not_A Brand\";v=\"24\"\\r\\nsec-ch-ua-mobile: ?0\\r\\n']\n",
      "Bad pipe message: %s [b'c-ch-ua-platform: \"Windows\"\\r\\nUpgrade-Insecure-Requests: 1\\r\\nUser-Agent: Mozilla/5.0 (Windows NT 10.0; Win64; x64) A', b'leWebKit/537.36 (KHTML, like Gecko) Chrome/131.0.0.0 Safari/537.36\\r\\nAccept: text/html,application/xhtml+xml,app']\n",
      "Bad pipe message: %s [b'cation/xml;q=0.9,image/avif,image/webp,image/apng,*/*;q=0.8,application/signed-exchange;v=b3;q=0.7\\r\\nSec-Fet', b'-Site: none\\r\\nSec-Fetch-Mode: navigate\\r\\nSec-Fetch-User: ?1\\r\\nSec-Fetch-Dest: document\\r\\nAccept-Encodi']\n",
      "Bad pipe message: %s [b'ol: max-age=0\\r\\nsec-ch-ua: \"Google Chrome\";v=\"131\", \"Chromium\";v=\"131\", \"Not_A Brand\";v=\"24\"\\r\\nsec-ch-ua-mobile: ?0\\r\\n']\n",
      "Bad pipe message: %s [b'c-ch-ua-platform: \"Windows\"\\r\\nUpgrade-Insecure-Requests: 1\\r\\nUser-Agent: Mozilla/5.0 (Windows NT 10.0; Win64; x64) A', b'leWebKit/537.36 (KHTML, like Gecko) Chrome/131.0.0.0 Safari/537.36\\r\\nAccept: text/html,application/xhtml+xml,app']\n",
      "Bad pipe message: %s [b'cation/xml;q=0.9,image/avif,image/webp,image/apng,*/*;q=0.8,application/signed-exchange;v=b3;q=0.7\\r\\nSec-Fet', b'-Site: none\\r\\nSec-Fetch-Mode: navigate\\r\\nSec-Fetch-User: ?1\\r\\nSec-Fetch-Dest: document\\r\\nAccept-Encodi']\n"
     ]
    }
   ],
   "source": [
    "len(recipe_data)"
   ]
  },
  {
   "cell_type": "code",
   "execution_count": 6,
   "metadata": {},
   "outputs": [
    {
     "data": {
      "text/plain": [
       "'/recipes/cbd1bca2-eb5d-4587-99c1-a5b9b3d0992f\\n'"
      ]
     },
     "execution_count": 6,
     "metadata": {},
     "output_type": "execute_result"
    }
   ],
   "source": [
    "urls_data[0]"
   ]
  },
  {
   "cell_type": "code",
   "execution_count": 7,
   "metadata": {},
   "outputs": [
    {
     "data": {
      "text/plain": [
       "'\\n  {\\n    \"title\": \"ほっとする美味しさ！基本の豚汁\",\\n    \"cooking_time\": 30,\\n    \"ingredients\": \"豚バラ肉、ごぼう、大根、にんじん、長ねぎ、こんにゃく、お湯、ごま油、水、顆粒和風だし、みそ\",\\n    \"expense\": 400\\n  },\\n'"
      ]
     },
     "execution_count": 7,
     "metadata": {},
     "output_type": "execute_result"
    }
   ],
   "source": [
    "domein = \"https://www.kurashiru.com\"\n",
    "\n",
    "title = []\n",
    "ingredient = []\n",
    "cooking_time = []\n",
    "expense = []\n",
    "url = []\n",
    "\n",
    "for i, recipe in enumerate(recipe_data):\n",
    "  title.append(recipe[\"title\"])\n",
    "  ingredient.append(recipe[\"ingredients\"])\n",
    "  cooking_time.append(recipe[\"cooking_time\"])\n",
    "  expense.append(recipe[\"expense\"])\n",
    "  url.append(domein+urls_data[i].rstrip('\\n'))\n",
    "\n",
    "recipe_df = pd.DataFrame(\n",
    "    data={\"title\":title, \"ingredients\":ingredient, \"cooking_time\":cooking_time, \"expense\":expense, \"url\":url},\n",
    "    columns=[\"title\", \"ingredients\",\n",
    "             \"cooking_time\", \"expense\", \"url\"]\n",
    ")\n",
    "\n",
    "recipe_df.to_csv('recipe.csv', index=False)\n",
    "\n",
    "\n",
    "\"\"\"\n",
    "  {\n",
    "    \"title\": \"ほっとする美味しさ！基本の豚汁\",\n",
    "    \"cooking_time\": 30,\n",
    "    \"ingredients\": \"豚バラ肉、ごぼう、大根、にんじん、長ねぎ、こんにゃく、お湯、ごま油、水、顆粒和風だし、みそ\",\n",
    "    \"expense\": 400\n",
    "  },\n",
    "\"\"\"\n"
   ]
  },
  {
   "cell_type": "code",
   "execution_count": 12,
   "metadata": {},
   "outputs": [],
   "source": [
    "with open('category.json', 'r') as f:\n",
    "    category = json.load(f)"
   ]
  },
  {
   "cell_type": "code",
   "execution_count": 13,
   "metadata": {},
   "outputs": [
    {
     "name": "stdout",
     "output_type": "stream",
     "text": [
      "その他\n",
      "['かまぼこ', 'こんにゃく', 'しらたき', 'ちくわ', 'はんぺん', 'ひじき', 'わかめ', 'キムチ', 'スイーツ', 'チョコ', 'パイシート', 'ホットケーキミックス', 'マシュマロ', '春雨', '海藻・乾物・こんにゃく', '米粉', '練り物', '食パン', '餃子の皮', 'はちみつ', '餅']\n",
      "野菜\n",
      "['えのき', 'かぶ', 'かぼちゃ', 'きのこ', 'きゅうり', 'ごぼう', 'さつまいも', 'さといも', 'しいたけ', 'ししとう', 'しめじ', 'じゃがいも', 'そら豆', 'たけのこ', 'とうもろこし', 'なす', 'なめこ', 'にんじん', 'ねぎ・長ねぎ', 'ふき', 'ほうれん草', 'まいたけ', 'まつたけ', 'みょうが', 'もやし', 'アスパラガス', 'アボカド', 'エリンギ', 'オクラ', 'カリフラワー', 'キャベツ', 'ゴーヤ', 'ズッキーニ', 'セロリ', 'チンゲン菜', 'トマト', 'ニラ', 'パプリカ', 'ピーマン', 'ブロッコリー', 'マッシュルーム', 'レタス', 'レンコン', '大根', '小松菜', '山芋', '新じゃがいも', '新玉ねぎ', '春キャベツ', '春菊', '枝豆', '水菜', '玉ねぎ', '白菜', '菜の花', '豆苗', '里芋', '長芋']\n",
      "大豆・豆腐\n",
      "['おから', '厚揚げ', '大豆', '油揚げ', '納豆', '豆乳', '豆腐']\n",
      "肉\n",
      "['ささみ', 'ひき肉', 'ウインナー', 'ソーセージ', 'ハム', 'ベーコン', '加工肉', '合いびき肉', '手羽元', '牛こま切れ肉', '牛ひき肉', '牛もも肉', '牛バラ肉', '牛ヒレ肉', '牛レバー', '牛ロース', '砂肝', '豚こま切れ肉', '豚ひき肉', '豚バラ肉', '豚ヒレ肉', '豚レバー', '豚ロース肉', '鶏ひき肉', '鶏むね肉', '鶏もも肉', '鶏レバー']\n",
      "魚介\n",
      "['あさり', 'あじ', 'いわし', 'えび', 'さば', 'しらす', 'たこ', 'たら', 'たらこ', 'ぶり', 'イカ', 'カレイ', 'サバ缶', 'ツナ缶', 'マグロ', '明太子', '牡蠣', '鮭・サーモン']\n",
      "乳製品\n",
      "['チーズ', 'ヨーグルト', '牛乳', '生クリーム']\n"
     ]
    }
   ],
   "source": [
    "for key, value in category.items():\n",
    "    print(key)\n",
    "    print(value)"
   ]
  },
  {
   "cell_type": "code",
   "execution_count": 15,
   "metadata": {},
   "outputs": [],
   "source": [
    "for key, value in category.items():\n",
    "    with open('../recipe_data/'+str(key)+'.txt', 'w') as f:\n",
    "        for item in value:\n",
    "            print(item, file=f)\n"
   ]
  }
 ],
 "metadata": {
  "kernelspec": {
   "display_name": "Python 3",
   "language": "python",
   "name": "python3"
  },
  "language_info": {
   "codemirror_mode": {
    "name": "ipython",
    "version": 3
   },
   "file_extension": ".py",
   "mimetype": "text/x-python",
   "name": "python",
   "nbconvert_exporter": "python",
   "pygments_lexer": "ipython3",
   "version": "3.12.8"
  }
 },
 "nbformat": 4,
 "nbformat_minor": 2
}
